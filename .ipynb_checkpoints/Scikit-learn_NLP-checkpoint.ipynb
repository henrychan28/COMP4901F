{
 "cells": [
  {
   "cell_type": "code",
   "execution_count": 1,
<<<<<<< HEAD
   "metadata": {},
=======
   "metadata": {
    "collapsed": true
   },
>>>>>>> 7c5e506fd562fc4f1f4bf94dd5e43bd0d421420f
   "outputs": [],
   "source": [
    "import sklearn"
   ]
  },
  {
   "cell_type": "code",
<<<<<<< HEAD
   "execution_count": 2,
   "metadata": {},
   "outputs": [],
   "source": [
    "categories = ['alt.atheism', 'soc.religion.christian','comp.graphics','sci.med']"
=======
   "execution_count": 7,
   "metadata": {
    "collapsed": false
   },
   "outputs": [
    {
     "name": "stdout",
     "output_type": "stream",
     "text": [
      "[ANGER]Number of entry: 57317 \n",
      "[FEAR]Number of entry: 47712 \n",
      "[JOY]Number of entry: 141067 \n",
      "[LOVE]Number of entry: 34554 \n",
      "[SADNESS]Number of entry: 121188 \n",
      "[SURPRISE]Number of entry: 14972 \n",
      "['i have been hearing rumours that you have not been allowing people in your room he said this sentence really shot my heart i failed to find the right words', 'i was at a friends place for lunch and she fell ill and vomited', 'the smell of garlic in rushhour bus', 'my father died my natural father contacted me a year after my father died and this angered me more as i thought he should be dead and not my father', 'years ago i served in the army once a collegue denounced me because of a delict', 'letter words on a tv programme roche while we were entertaining conservative relations who wanted to see the first episode', 'a group of youngsters dressed in fads talked foul language on a bus they also insulted the pedestrians on the road and were impolite to the passengers of the bus', 'a higher status colleague of mine despised my attitude and organization of work', 'a tv program on whalehunting', 'a bad smelling cucumber']\n",
      "[0, 0, 0, 0, 0, 0, 0, 0, 0, 0]\n"
     ]
    }
   ],
   "source": [
    "data = []\n",
    "targets = []\n",
    "emotions = ['ANGER', 'FEAR', 'JOY', 'LOVE', 'SADNESS', 'SURPRISE']\n",
    "\n",
    "for emotion in emotions:\n",
    "    with open('NLP_Training_Data/{0}'.format(emotion)) as f:\n",
    "        content = f.readlines()\n",
    "    for x in content:\n",
    "        data.append(x.strip())\n",
    "        targets.append(emotions.index(emotion))\n",
    "    print('[{0}]Number of entry: {1} '.format(emotion, len(content)))"
>>>>>>> 7c5e506fd562fc4f1f4bf94dd5e43bd0d421420f
   ]
  },
  {
   "cell_type": "code",
<<<<<<< HEAD
   "execution_count": 3,
   "metadata": {},
   "outputs": [
    {
     "name": "stderr",
     "output_type": "stream",
     "text": [
      "Downloading 20news dataset. This may take a few minutes.\n",
      "Downloading dataset from https://ndownloader.figshare.com/files/5975967 (14 MB)\n"
=======
   "execution_count": 11,
   "metadata": {
    "collapsed": false
   },
   "outputs": [
    {
     "name": "stdout",
     "output_type": "stream",
     "text": [
      "['i realized how mean ive been to you when your feeling for me was so sincere', 'i have to admit i feel pretty much like that every time i read someones blog', 'i feel ok i feel good', 'i do want to share with you my personal discovery and though it is very small and probably insignificant i feel tramendous joy as i finally resolved the issue that was bothering me for quite some time', 'i am not a very psychic kind of person but i could definitely feel an unpleasant energy coming off this man', 'i feel isolated find company and if i am tired take a break', 'i emailed kendra smith who i know is going to be a fabulous trainer and though her roster was already overflowing she must have heard my urgency to feel vital again and agreed to meet me for a series of sessions leading up to the retreat', 'i know you cant just ged rid of your feelings but seriously i dont see your parents supporting you dating a guy who s their age', 'i feel the warmth of the amazed smile because', 'i left feeling highly impressed and motivated']\n",
      "[2, 2, 2, 2, 4, 4, 2, 2, 5, 5]\n"
>>>>>>> 7c5e506fd562fc4f1f4bf94dd5e43bd0d421420f
     ]
    }
   ],
   "source": [
<<<<<<< HEAD
=======
    "from sklearn.model_selection import train_test_split\n",
    "X_train, X_test, y_train, y_test = train_test_split(data, targets, shuffle=True, test_size=0.2,random_state=11)"
   ]
  },
  {
   "cell_type": "code",
   "execution_count": 6,
   "metadata": {
    "collapsed": true
   },
   "outputs": [],
   "source": [
    "categories = ['alt.atheism', 'soc.religion.christian','comp.graphics','sci.med']"
   ]
  },
  {
   "cell_type": "code",
   "execution_count": 7,
   "metadata": {
    "collapsed": false
   },
   "outputs": [],
   "source": [
>>>>>>> 7c5e506fd562fc4f1f4bf94dd5e43bd0d421420f
    "from sklearn.datasets import fetch_20newsgroups\n",
    "twenty_train = fetch_20newsgroups(subset='train', categories=categories, shuffle=True, random_state=42)"
   ]
  },
  {
   "cell_type": "code",
<<<<<<< HEAD
   "execution_count": 4,
   "metadata": {},
=======
   "execution_count": 18,
   "metadata": {
    "collapsed": true
   },
>>>>>>> 7c5e506fd562fc4f1f4bf94dd5e43bd0d421420f
   "outputs": [
    {
     "name": "stdout",
     "output_type": "stream",
     "text": [
      "From: ani@ms.uky.edu (Aniruddha B. Deglurkar)\n",
      "Subject: help: Splitting a trimming region along a mesh \n",
      "Organization: University Of Kentucky, Dept. of Math Sciences\n",
      "Lines: 28\n",
      "\n",
      "\n",
      "\n",
      "\tHi,\n",
      "\n",
      "\tI have a problem, I hope some of the 'gurus' can help me solve.\n",
      "\n",
      "\tBackground of the problem:\n",
      "\tI have a rectangular mesh in the uv domain, i.e  the mesh is a \n",
      "\tmapping of a 3d Bezier patch into 2d. The area in this domain\n",
      "\twhich is inside a trimming loop had to be rendered. The trimming\n",
      "\tloop is a set of 2d Bezier curve segments.\n",
      "\tFor the sake of notation: the mesh is made up of cells.\n",
      "\n",
      "\tMy problem is this :\n",
      "\tThe trimming area has to be split up into individual smaller\n",
      "\tcells bounded by the trimming curve segments. If a cell\n",
      "\tis wholly inside the area...then it is output as a whole ,\n",
      "\telse it is trivially rejected. \n",
      "\n",
      "\tDoes any body know how thiss can be done, or is there any algo. \n",
      "\tsomewhere for doing this.\n",
      "\n",
      "\tAny help would be appreciated.\n",
      "\n",
      "\tThanks, \n",
      "\tAni.\n",
      "-- \n",
      "To get irritated is human, to stay cool, divine.\n",
      "\n",
<<<<<<< HEAD
      "/home/data/pb_group/scikit_learn_data/20news_home/20news-bydate-train/comp.graphics/38479\n",
=======
      "C:\\Users\\Henry Chan\\scikit_learn_data\\20news_home\\20news-bydate-train\\comp.graphics\\38479\n",
>>>>>>> 7c5e506fd562fc4f1f4bf94dd5e43bd0d421420f
      "1\n"
     ]
    }
   ],
   "source": [
    "print(twenty_train.data[1])\n",
    "print(twenty_train.filenames[1])\n",
    "print(twenty_train.target[1])"
   ]
  },
  {
   "cell_type": "code",
<<<<<<< HEAD
   "execution_count": 5,
   "metadata": {},
=======
   "execution_count": 20,
   "metadata": {
    "collapsed": false
   },
>>>>>>> 7c5e506fd562fc4f1f4bf94dd5e43bd0d421420f
   "outputs": [
    {
     "data": {
      "text/plain": [
       "<1x35788 sparse matrix of type '<class 'numpy.int64'>'\n",
       "\twith 73 stored elements in Compressed Sparse Row format>"
      ]
     },
<<<<<<< HEAD
     "execution_count": 5,
=======
     "execution_count": 20,
>>>>>>> 7c5e506fd562fc4f1f4bf94dd5e43bd0d421420f
     "metadata": {},
     "output_type": "execute_result"
    }
   ],
   "source": [
    "from sklearn.feature_extraction.text import CountVectorizer\n",
    "count_vect = CountVectorizer()\n",
    "X_train_counts = count_vect.fit_transform(twenty_train.data)\n",
    "X_train_counts[0]"
   ]
  },
  {
   "cell_type": "code",
<<<<<<< HEAD
   "execution_count": 7,
   "metadata": {},
=======
   "execution_count": 63,
   "metadata": {
    "collapsed": false
   },
>>>>>>> 7c5e506fd562fc4f1f4bf94dd5e43bd0d421420f
   "outputs": [
    {
     "data": {
      "text/plain": [
<<<<<<< HEAD
       "(2257, 35788)"
      ]
     },
     "execution_count": 7,
=======
       "<1x35788 sparse matrix of type '<class 'numpy.float64'>'\n",
       "\twith 73 stored elements in Compressed Sparse Row format>"
      ]
     },
     "execution_count": 63,
>>>>>>> 7c5e506fd562fc4f1f4bf94dd5e43bd0d421420f
     "metadata": {},
     "output_type": "execute_result"
    }
   ],
   "source": [
    "from sklearn.feature_extraction.text import TfidfTransformer\n",
    "tfidf_transformer = TfidfTransformer()\n",
    "X_train_tfidf = tfidf_transformer.fit_transform(X_train_counts)\n",
<<<<<<< HEAD
    "X_train_tfidf.shape"
=======
    "X_train_tf.shape"
>>>>>>> 7c5e506fd562fc4f1f4bf94dd5e43bd0d421420f
   ]
  },
  {
   "cell_type": "code",
<<<<<<< HEAD
   "execution_count": 8,
   "metadata": {},
=======
   "execution_count": 30,
   "metadata": {
    "collapsed": true
   },
>>>>>>> 7c5e506fd562fc4f1f4bf94dd5e43bd0d421420f
   "outputs": [],
   "source": [
    "from sklearn.naive_bayes import MultinomialNB\n",
    "clf = MultinomialNB().fit(X_train_tfidf, twenty_train.target)"
   ]
  },
  {
   "cell_type": "code",
<<<<<<< HEAD
   "execution_count": 9,
   "metadata": {},
=======
   "execution_count": 37,
   "metadata": {
    "collapsed": false
   },
>>>>>>> 7c5e506fd562fc4f1f4bf94dd5e43bd0d421420f
   "outputs": [],
   "source": [
    "docs_new = ['God is love', 'OpenGL on the GPU is fast', 'believe in the sky', 'linear transform']\n",
    "X_new_counts = count_vect.transform(docs_new)\n",
    "X_new_tfidf = tfidf_transformer.transform(X_new_counts)"
   ]
  },
  {
   "cell_type": "code",
<<<<<<< HEAD
   "execution_count": 10,
   "metadata": {},
=======
   "execution_count": 38,
   "metadata": {
    "collapsed": false
   },
>>>>>>> 7c5e506fd562fc4f1f4bf94dd5e43bd0d421420f
   "outputs": [
    {
     "name": "stdout",
     "output_type": "stream",
     "text": [
      "'God is love' => soc.religion.christian\n",
      "'OpenGL on the GPU is fast' => comp.graphics\n",
      "'believe in the sky' => soc.religion.christian\n",
      "'linear transform' => comp.graphics\n"
     ]
    }
   ],
   "source": [
    "predicted=clf.predict(X_new_tfidf)\n",
    "for doc, category in zip(docs_new, predicted):\n",
    "    print(\"%r => %s\" % (doc, twenty_train.target_names[category]))"
   ]
  },
  {
   "cell_type": "code",
<<<<<<< HEAD
   "execution_count": null,
   "metadata": {},
=======
   "execution_count": 41,
   "metadata": {
    "collapsed": false
   },
>>>>>>> 7c5e506fd562fc4f1f4bf94dd5e43bd0d421420f
   "outputs": [],
   "source": [
    "from sklearn.pipeline import Pipeline\n",
    "text_clf = Pipeline([('vect', CountVectorizer()),\n",
    "                     ('tfidf', TfidfTransformer()),\n",
    "                     ('clf', MultinomialNB()),\n",
    "                    ])"
   ]
  },
  {
   "cell_type": "code",
<<<<<<< HEAD
   "execution_count": null,
   "metadata": {},
   "outputs": [],
=======
   "execution_count": 42,
   "metadata": {
    "collapsed": false
   },
   "outputs": [
    {
     "data": {
      "text/plain": [
       "Pipeline(memory=None,\n",
       "     steps=[('vect', CountVectorizer(analyzer='word', binary=False, decode_error='strict',\n",
       "        dtype=<class 'numpy.int64'>, encoding='utf-8', input='content',\n",
       "        lowercase=True, max_df=1.0, max_features=None, min_df=1,\n",
       "        ngram_range=(1, 1), preprocessor=None, stop_words=None,\n",
       "        strip...inear_tf=False, use_idf=True)), ('clf', MultinomialNB(alpha=1.0, class_prior=None, fit_prior=True))])"
      ]
     },
     "execution_count": 42,
     "metadata": {},
     "output_type": "execute_result"
    }
   ],
>>>>>>> 7c5e506fd562fc4f1f4bf94dd5e43bd0d421420f
   "source": [
    "text_clf.fit(twenty_train.data, twenty_train.target)"
   ]
  },
  {
   "cell_type": "code",
<<<<<<< HEAD
   "execution_count": null,
   "metadata": {},
   "outputs": [],
=======
   "execution_count": 45,
   "metadata": {
    "collapsed": false
   },
   "outputs": [
    {
     "data": {
      "text/plain": [
       "0.83488681757656458"
      ]
     },
     "execution_count": 45,
     "metadata": {},
     "output_type": "execute_result"
    }
   ],
>>>>>>> 7c5e506fd562fc4f1f4bf94dd5e43bd0d421420f
   "source": [
    "import numpy as np\n",
    "twenty_test = fetch_20newsgroups(subset='test', \n",
    "                                 categories=categories, shuffle=True, \n",
    "                                 random_state=42)\n",
    "doc_test = twenty_test.data\n",
    "predicted = text_clf.predict(doc_test)\n",
    "np.mean(predicted == twenty_test.target)"
   ]
  },
  {
   "cell_type": "code",
<<<<<<< HEAD
   "execution_count": null,
   "metadata": {},
   "outputs": [],
=======
   "execution_count": 48,
   "metadata": {
    "collapsed": false
   },
   "outputs": [
    {
     "data": {
      "text/plain": [
       "0.9127829560585885"
      ]
     },
     "execution_count": 48,
     "metadata": {},
     "output_type": "execute_result"
    }
   ],
>>>>>>> 7c5e506fd562fc4f1f4bf94dd5e43bd0d421420f
   "source": [
    "from sklearn.linear_model import SGDClassifier\n",
    "text_clf = Pipeline([('vect', CountVectorizer()),\n",
    "                     ('tfidf', TfidfTransformer()),\n",
    "                     ('clf', SGDClassifier(loss='hinge', penalty='l2',\n",
    "                                           alpha=1e-3, random_state=42,\n",
    "                                           max_iter=5, tol=None))\n",
    "                    ])\n",
    "text_clf.fit(twenty_train.data, twenty_train.target)\n",
    "predicted = text_clf.predict(doc_test)\n",
    "np.mean(predicted == twenty_test.target)"
   ]
  },
  {
   "cell_type": "code",
<<<<<<< HEAD
   "execution_count": null,
   "metadata": {},
   "outputs": [],
   "source": [
    "from sklearn.model_selection import GridSearchCV\n",
    "parameters = {'vector__ngram_range':[(1,1), (1,2)],\n",
=======
   "execution_count": 58,
   "metadata": {
    "collapsed": true
   },
   "outputs": [],
   "source": [
    "from sklearn.model_selection import GridSearchCV\n",
    "parameters = {'vect__ngram_range':[(1,1), (1,2)],\n",
>>>>>>> 7c5e506fd562fc4f1f4bf94dd5e43bd0d421420f
    "              'tfidf__use_idf':(True, False),\n",
    "              'clf__alpha':(1e-2, 1e-3),}"
   ]
  },
  {
   "cell_type": "code",
<<<<<<< HEAD
   "execution_count": null,
   "metadata": {},
=======
   "execution_count": 59,
   "metadata": {
    "collapsed": true
   },
>>>>>>> 7c5e506fd562fc4f1f4bf94dd5e43bd0d421420f
   "outputs": [],
   "source": [
    "gs_clf = GridSearchCV(text_clf, parameters, n_jobs=-1)"
   ]
  },
  {
   "cell_type": "code",
<<<<<<< HEAD
   "execution_count": null,
   "metadata": {},
=======
   "execution_count": 60,
   "metadata": {
    "collapsed": false
   },
>>>>>>> 7c5e506fd562fc4f1f4bf94dd5e43bd0d421420f
   "outputs": [],
   "source": [
    "gs_clf=gs_clf.fit(twenty_train.data[:400], twenty_train.target[:400])"
   ]
  },
  {
   "cell_type": "code",
<<<<<<< HEAD
   "execution_count": null,
   "metadata": {},
=======
   "execution_count": 61,
   "metadata": {
    "collapsed": false
   },
   "outputs": [
    {
     "data": {
      "text/plain": [
       "'soc.religion.christian'"
      ]
     },
     "execution_count": 61,
     "metadata": {},
     "output_type": "execute_result"
    }
   ],
   "source": [
    "twenty_train.target_names[gs_clf.predict(['God is love'])[0]]"
   ]
  },
  {
   "cell_type": "code",
   "execution_count": 62,
   "metadata": {
    "collapsed": false
   },
   "outputs": [
    {
     "data": {
      "text/plain": [
       "0.90000000000000002"
      ]
     },
     "execution_count": 62,
     "metadata": {},
     "output_type": "execute_result"
    }
   ],
   "source": [
    "gs_clf.best_score_"
   ]
  },
  {
   "cell_type": "code",
   "execution_count": null,
   "metadata": {
    "collapsed": true
   },
>>>>>>> 7c5e506fd562fc4f1f4bf94dd5e43bd0d421420f
   "outputs": [],
   "source": []
  }
 ],
 "metadata": {
  "anaconda-cloud": {},
  "kernelspec": {
   "display_name": "Python [conda env:py35]",
   "language": "python",
   "name": "conda-env-py35-py"
  },
  "language_info": {
   "codemirror_mode": {
    "name": "ipython",
    "version": 3
   },
   "file_extension": ".py",
   "mimetype": "text/x-python",
   "name": "python",
   "nbconvert_exporter": "python",
   "pygments_lexer": "ipython3",
   "version": "3.5.4"
  }
 },
 "nbformat": 4,
 "nbformat_minor": 1
}
