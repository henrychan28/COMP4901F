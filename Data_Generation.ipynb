{
 "cells": [
  {
   "cell_type": "code",
   "execution_count": 1,
   "metadata": {},
   "outputs": [],
   "source": [
    "import pickle\n",
    "from random import shuffle\n",
    "import random"
   ]
  },
  {
   "cell_type": "code",
   "execution_count": 2,
   "metadata": {},
   "outputs": [
    {
     "name": "stdout",
     "output_type": "stream",
     "text": [
      "[ANGER]Number of entry: 57317 \n",
      "[FEAR]Number of entry: 47712 \n",
      "[JOY]Number of entry: 141067 \n",
      "[LOVE]Number of entry: 34554 \n",
      "[SADNESS]Number of entry: 121188 \n",
      "[SURPRISE]Number of entry: 14972 \n"
     ]
    }
   ],
   "source": [
    "data = [[] for i in range(6)]\n",
    "EMOTION_NUM = 6\n",
    "emotions = ['ANGER', 'FEAR', 'JOY', 'LOVE', 'SADNESS', 'SURPRISE']\n",
    "for i, emotion in enumerate(emotions):\n",
    "    with open('NLP_Training_Data/{0}'.format(emotion)) as f:\n",
    "        content = f.readlines()\n",
    "    for x in content:\n",
    "        data[i].append((x.strip(), emotions.index(emotion)))\n",
    "    print('[{0}]Number of entry: {1} '.format(emotion, len(content)))"
   ]
  },
  {
   "cell_type": "code",
   "execution_count": 3,
   "metadata": {},
   "outputs": [],
   "source": [
    "for i in range(EMOTION_NUM):\n",
    "    shuffle(data[i])"
   ]
  },
  {
   "cell_type": "code",
   "execution_count": 4,
   "metadata": {},
   "outputs": [],
   "source": [
    "def getDataHead(data, numData = 1):\n",
    "    returnData = []\n",
    "    for i in range(numData):\n",
    "        returnData.append(data[i])\n",
    "    return returnData"
   ]
  },
  {
   "cell_type": "code",
   "execution_count": 5,
   "metadata": {},
   "outputs": [],
   "source": [
    "train_finalset = []\n",
    "train_testset = []\n",
    "for i in range(EMOTION_NUM):\n",
    "    train_finalset += getDataHead(data[i], 14000)\n",
    "    train_testset += getDataHead(data[i], 500)\n",
    "shuffle(train_finalset)\n",
    "shuffle(train_testset)"
   ]
  },
  {
   "cell_type": "code",
   "execution_count": 6,
   "metadata": {},
   "outputs": [],
   "source": [
    "def convertDeepMojiFormat(data):\n",
    "    dataDeepMoji={'info':[], 'texts':[], 'val_ind':[], 'test_ind':[], 'train_ind':[]}\n",
    "    for i, datum in enumerate(data):\n",
    "        dataDeepMoji['info'].append({'label':datum[1]})\n",
    "        dataDeepMoji['texts'].append(unicode(datum[0], \"utf-8\"))\n",
    "        random_number = random.uniform(0,1)\n",
    "        if(random_number<0.2):\n",
    "            dataDeepMoji['val_ind'].append(i)\n",
    "        elif(random_number<0.4):\n",
    "            dataDeepMoji['test_ind'].append(i)\n",
    "        else:\n",
    "            dataDeepMoji['train_ind'].append(i)\n",
    "    return dataDeepMoji"
   ]
  },
  {
   "cell_type": "code",
   "execution_count": 7,
   "metadata": {},
   "outputs": [],
   "source": [
    "raw_testset = convertDeepMojiFormat(train_testset)\n",
    "raw_finalset = convertDeepMojiFormat(train_finalset)"
   ]
  },
  {
   "cell_type": "code",
   "execution_count": 8,
   "metadata": {},
   "outputs": [],
   "source": [
    "with open('../DeepMoji/data/Six-Emotion/raw-testset.pickle', 'w') as f:\n",
    "    pickle.dump(raw_testset, f)\n",
    "with open('../DeepMoji/data/Six-Emotion/raw.pickle', 'w') as f:\n",
    "    pickle.dump(raw_finalset, f)  "
   ]
  },
  {
   "cell_type": "code",
   "execution_count": 9,
   "metadata": {},
   "outputs": [],
   "source": [
    "with open('raw.pickle', 'w') as f:\n",
    "    pickle.dump(raw_finalset, f)  "
   ]
  },
  {
   "cell_type": "code",
   "execution_count": null,
   "metadata": {},
   "outputs": [],
   "source": []
  }
 ],
 "metadata": {
  "kernelspec": {
   "display_name": "Python [conda env:py27]",
   "language": "python",
   "name": "conda-env-py27-py"
  },
  "language_info": {
   "codemirror_mode": {
    "name": "ipython",
    "version": 2
   },
   "file_extension": ".py",
   "mimetype": "text/x-python",
   "name": "python",
   "nbconvert_exporter": "python",
   "pygments_lexer": "ipython2",
   "version": "2.7.14"
  }
 },
 "nbformat": 4,
 "nbformat_minor": 2
}
