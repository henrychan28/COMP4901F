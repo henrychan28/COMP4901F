{
 "cells": [
  {
   "cell_type": "code",
   "execution_count": 230,
   "metadata": {},
   "outputs": [],
   "source": [
    "import json"
   ]
  },
  {
   "cell_type": "code",
   "execution_count": 231,
   "metadata": {},
   "outputs": [],
   "source": [
    "start_year = 2009\n",
    "next_year = 2019"
   ]
  },
  {
   "cell_type": "code",
   "execution_count": 232,
   "metadata": {},
   "outputs": [],
   "source": [
    "condensed_data = dict()\n",
    "for year in range(start_year, next_year): \n",
    "    with open('Trump_Twitter_Data/condensed_{0}.json'.format(year)) as json_data:\n",
    "        condensed_data[year] = json.load(json_data)\n",
    "        "
   ]
  },
  {
   "cell_type": "code",
   "execution_count": 233,
   "metadata": {},
   "outputs": [],
   "source": [
    "time_label = ['dayofweek', 'month', 'day', 'time', 'timezone', 'year']\n",
    "i = 0\n",
    "for year in range(start_year, next_year):\n",
    "    for index in range(len(condensed_data[year])):\n",
    "        time_data = condensed_data[year][index]['created_at'].split(' ')\n",
    "        for index_time in range(len(time_label)):\n",
    "            condensed_data[year][index][time_label[index_time]] = time_data[index_time]\n",
    "        condensed_data[year][index].pop('created_at', None)\n",
    "        #All timezone is equal to '+0000'\n",
    "        condensed_data[year][index].pop('timezone', None)"
   ]
  },
  {
   "cell_type": "code",
   "execution_count": 234,
   "metadata": {},
   "outputs": [],
   "source": [
    "for year in range(start_year, next_year):\n",
    "    for index in range(len(condensed_data[year])):\n",
    "        text = condensed_data[year][index]['text']\n",
    "        condensed_data[year][index]['retweet_of'] = re.findall('(?<=RT\\s)\\100.*?(?=:)', text)\n",
    "        condensed_data[year][index]['mention'] = re.findall('@\\w+(?=\\s|$|:)', text)\n",
    "        condensed_data[year][index]['links'] = re.findall('http.*?(?=\\s|$)', text)\n",
    "        condensed_data[year][index]['hashtags'] = re.findall('#\\w+(?=\\s|$|:|#)', text)\n",
    "        condensed_data[year][index]['text'] = re.sub('http.*?(?=\\s|$)', '', condensed_data[year][index]['text'])\n",
    "        condensed_data[year][index]['text'] = re.sub('RT\\s\\100.*?:', '', condensed_data[year][index]['text'])\n",
    "        del condensed_data[year][index]['id_str']"
   ]
  },
  {
   "cell_type": "code",
   "execution_count": null,
   "metadata": {},
   "outputs": [],
   "source": []
  }
 ],
 "metadata": {
  "kernelspec": {
   "display_name": "Python [conda env:py36]",
   "language": "python",
   "name": "conda-env-py36-py"
  },
  "language_info": {
   "codemirror_mode": {
    "name": "ipython",
    "version": 3
   },
   "file_extension": ".py",
   "mimetype": "text/x-python",
   "name": "python",
   "nbconvert_exporter": "python",
   "pygments_lexer": "ipython3",
   "version": "3.6.4"
  }
 },
 "nbformat": 4,
 "nbformat_minor": 2
}
